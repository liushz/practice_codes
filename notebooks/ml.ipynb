{
 "cells": [
  {
   "attachments": {},
   "cell_type": "markdown",
   "metadata": {},
   "source": [
    "## Activation"
   ]
  },
  {
   "cell_type": "code",
   "execution_count": 17,
   "metadata": {},
   "outputs": [
    {
     "name": "stdout",
     "output_type": "stream",
     "text": [
      "[0. 0. 0. 0.]\n",
      "[1 1 1 0]\n",
      "0.6572330228318555\n"
     ]
    }
   ],
   "source": [
    "# Softmax\n",
    "import numpy as np\n",
    "vals = np.array([1,2,3, -1])\n",
    "\n",
    "class ReLU:\n",
    "    def forward(self, x):\n",
    "        # return np.maximum(0, x)\n",
    "        return np.where(x>0, x, 0)\n",
    "    \n",
    "    def backward(self, x):\n",
    "        grad = np.zeros(x.shape)\n",
    "        print(grad)\n",
    "        grad = np.where(x>0, 1, 0)\n",
    "        return grad\n",
    "    \n",
    "softmax_0 = np.exp(vals[2])/np.sum(np.exp(vals))\n",
    "act = ReLU()\n",
    "print(act.backward(vals))\n",
    "\n",
    "print(softmax_0)\n"
   ]
  },
  {
   "cell_type": "code",
   "execution_count": 8,
   "metadata": {},
   "outputs": [],
   "source": [
    "import numpy as np\n",
    "from collections import Counter\n",
    "\n",
    "class KMeans:\n",
    "    def __init__(self, k=2, max_iterations=100):\n",
    "        self.k = k\n",
    "        self.max_iterations = max_iterations\n",
    "        \n",
    "    def fit(self, X):\n",
    "        self.centroids = X[np.random.choice(len(X), self.k, replace=False)]\n",
    "        \n",
    "        for i in range(self.max_iterations):\n",
    "            clusters = [[] for _ in range(self.k)]\n",
    "            for x in X:\n",
    "                # distances = np.linalg.norm(self.centroids - x, axis=1)\n",
    "                distances = np.sqrt(np.sum((self.centroids - x)**2, axis=-1))\n",
    "                cluster_index = np.argmin(distances)\n",
    "                clusters[cluster_index].append(x)\n",
    "            \n",
    "            new_centroids = []\n",
    "            for cluster in clusters:\n",
    "                if len(cluster) > 0:\n",
    "                    new_centroids.append(np.mean(cluster, axis=0))\n",
    "                else:\n",
    "                    new_centroids.append(self.centroids[clusters.index(cluster)])\n",
    "            \n",
    "            if np.allclose(self.centroids, new_centroids):\n",
    "                break\n",
    "                \n",
    "            self.centroids = new_centroids\n",
    "            \n",
    "        self.labels_ = np.zeros(len(X))\n",
    "        for i, cluster in enumerate(clusters):\n",
    "            for x in cluster:\n",
    "                self.labels_[np.where(X == x)[0][0]] = i\n",
    "                \n",
    "        return self\n",
    "    \n",
    "    def predict(self, X):\n",
    "        labels = np.zeros(len(X))\n",
    "        for i, x in enumerate(X):\n",
    "            distances = np.linalg.norm(self.centroids - x, axis=1)\n",
    "            labels[i] = np.argmin(distances)\n",
    "        return labels\n",
    "    \n",
    "    def get_cluster_counts(self):\n",
    "        return Counter(self.labels_)"
   ]
  },
  {
   "cell_type": "code",
   "execution_count": 25,
   "metadata": {},
   "outputs": [],
   "source": [
    "class Kmeans():\n",
    "    def __init__(self, k=2, iters=100):\n",
    "        self.k = k\n",
    "        self.iters = iters\n",
    "        \n",
    "    def fix(self, inputs):\n",
    "        self.k_points = inputs[np.random.choice(len(inputs), self.k)]\n",
    "        \n",
    "        for iter in range(self.iters):\n",
    "            self.clusters = [[] for _ in range(self.k)]\n",
    "            for input in inputs:\n",
    "                distance = np.sqrt(np.sum((self.k_points - input)**2, axis=-1))\n",
    "                index = np.argmin(distance)\n",
    "                self.clusters[index].append(input)\n",
    "                \n",
    "            new_points = []\n",
    "            for cluster in self.clusters:\n",
    "                new_points.append(np.mean(cluster, axis=0))\n",
    "            self.k_points = new_points\n",
    "        \n",
    "        return self.k_points, self.clusters\n",
    "\n",
    "            \n",
    "                \n",
    "                \n",
    "                \n",
    "    "
   ]
  },
  {
   "cell_type": "code",
   "execution_count": 26,
   "metadata": {},
   "outputs": [
    {
     "ename": "TypeError",
     "evalue": "list indices must be integers or slices, not tuple",
     "output_type": "error",
     "traceback": [
      "\u001b[0;31m---------------------------------------------------------------------------\u001b[0m",
      "\u001b[0;31mTypeError\u001b[0m                                 Traceback (most recent call last)",
      "Cell \u001b[0;32mIn[26], line 8\u001b[0m\n\u001b[1;32m      5\u001b[0m points, clusters \u001b[39m=\u001b[39m KM\u001b[39m.\u001b[39mfix(points)\n\u001b[1;32m      6\u001b[0m plt\u001b[39m.\u001b[39mfigure(figsize\u001b[39m=\u001b[39m(\u001b[39m8\u001b[39m, \u001b[39m6\u001b[39m))\n\u001b[0;32m----> 8\u001b[0m plt\u001b[39m.\u001b[39mscatter(points[:, \u001b[39m0\u001b[39;49m], points[:, \u001b[39m1\u001b[39m], c\u001b[39m=\u001b[39mclusters)\n\u001b[1;32m      9\u001b[0m \u001b[39m# plt.scatter(kmeans.centroids[:, 0], kmeans.centroids[:, 1], marker='x', s=200, linewidths=3, color='r')\u001b[39;00m\n\u001b[1;32m     10\u001b[0m plt\u001b[39m.\u001b[39mtitle(\u001b[39m\"\u001b[39m\u001b[39mK-means Clustering\u001b[39m\u001b[39m\"\u001b[39m)\n",
      "\u001b[0;31mTypeError\u001b[0m: list indices must be integers or slices, not tuple"
     ]
    },
    {
     "data": {
      "text/plain": [
       "<Figure size 800x600 with 0 Axes>"
      ]
     },
     "metadata": {},
     "output_type": "display_data"
    }
   ],
   "source": [
    "import matplotlib.pyplot as plt\n",
    "\n",
    "points = np.random.randn(100,2)\n",
    "KM = Kmeans(4,20)\n",
    "points, clusters = KM.fix(points)\n",
    "plt.figure(figsize=(8, 6))\n",
    "\n",
    "plt.scatter(points[:, 0], points[:, 1], c=clusters)\n",
    "# plt.scatter(kmeans.centroids[:, 0], kmeans.centroids[:, 1], marker='x', s=200, linewidths=3, color='r')\n",
    "plt.title(\"K-means Clustering\")\n",
    "plt.show()\n"
   ]
  },
  {
   "cell_type": "code",
   "execution_count": 27,
   "metadata": {},
   "outputs": [
    {
     "data": {
      "image/png": "[encoded data removed]",
      "text/plain": [
       "<Figure size 800x600 with 1 Axes>"
      ]
     },
     "metadata": {},
     "output_type": "display_data"
    },
    {
     "name": "stdout",
     "output_type": "stream",
     "text": [
      "Cluster 0: 25 data points\n",
      "Cluster 1: 21 data points\n",
      "Cluster 2: 24 data points\n",
      "Cluster 3: 30 data points\n"
     ]
    }
   ],
   "source": [
    "import numpy as np\n",
    "import matplotlib.pyplot as plt\n",
    "\n",
    "\n",
    "# 生成一些随机数据\n",
    "np.random.seed(0)\n",
    "# X1 = np.random.randn(100, 2) + np.array([5, 5])\n",
    "# X2 = np.random.randn(100, 2) + np.array([-5, -5])\n",
    "# X3 = np.random.randn(100, 2) + np.array([5, -5])\n",
    "# X4 = np.random.randn(100, 2) + np.array([-5, 5])\n",
    "# X = np.vstack([X1, X2, X3, X4])\n",
    "\n",
    "X = np.random.randn(100,2)\n",
    "# 使用K-means聚类算法\n",
    "kmeans = KMeans(k=4)\n",
    "kmeans.fit(X)\n",
    "\n",
    "# 绘制聚类结果\n",
    "plt.figure(figsize=(8, 6))\n",
    "plt.scatter(X[:, 0], X[:, 1], c=kmeans.labels_)\n",
    "# plt.scatter(kmeans.centroids[:, 0], kmeans.centroids[:, 1], marker='x', s=200, linewidths=3, color='r')\n",
    "plt.title(\"K-means Clustering\")\n",
    "plt.show()\n",
    "\n",
    "# 输出每个簇中数据点的数量\n",
    "cluster_counts = kmeans.get_cluster_counts()\n",
    "for i in range(kmeans.k):\n",
    "    print(f\"Cluster {i}: {cluster_counts[i]} data points\")"
   ]
  },
  {
   "cell_type": "markdown",
   "metadata": {},
   "source": [
    "## LR"
   ]
  },
  {
   "cell_type": "code",
   "execution_count": 31,
   "metadata": {},
   "outputs": [
    {
     "ename": "TypeError",
     "evalue": "Cannot interpret '1' as a data type",
     "output_type": "error",
     "traceback": [
      "\u001b[0;31m---------------------------------------------------------------------------\u001b[0m",
      "\u001b[0;31mTypeError\u001b[0m                                 Traceback (most recent call last)",
      "Cell \u001b[0;32mIn[31], line 36\u001b[0m\n\u001b[1;32m     34\u001b[0m \u001b[39m# 训练模型\u001b[39;00m\n\u001b[1;32m     35\u001b[0m model \u001b[39m=\u001b[39m LinearRegression(lr\u001b[39m=\u001b[39m\u001b[39m0.1\u001b[39m, n_iters\u001b[39m=\u001b[39m\u001b[39m1000\u001b[39m)\n\u001b[0;32m---> 36\u001b[0m model\u001b[39m.\u001b[39;49mfit(X, y)\n\u001b[1;32m     38\u001b[0m \u001b[39m# 预测新数据\u001b[39;00m\n\u001b[1;32m     39\u001b[0m X_new \u001b[39m=\u001b[39m np\u001b[39m.\u001b[39marray([[\u001b[39m2\u001b[39m], [\u001b[39m3\u001b[39m]])\n",
      "Cell \u001b[0;32mIn[31], line 14\u001b[0m, in \u001b[0;36mLinearRegression.fit\u001b[0;34m(self, X, y)\u001b[0m\n\u001b[1;32m     11\u001b[0m n_samples, n_features \u001b[39m=\u001b[39m X\u001b[39m.\u001b[39mshape\n\u001b[1;32m     13\u001b[0m \u001b[39m# 初始化权重和偏差\u001b[39;00m\n\u001b[0;32m---> 14\u001b[0m \u001b[39mself\u001b[39m\u001b[39m.\u001b[39mweights \u001b[39m=\u001b[39m np\u001b[39m.\u001b[39;49mzeros(n_features, \u001b[39m1\u001b[39;49m)\n\u001b[1;32m     15\u001b[0m \u001b[39mself\u001b[39m\u001b[39m.\u001b[39mbias \u001b[39m=\u001b[39m \u001b[39m0\u001b[39m\n\u001b[1;32m     17\u001b[0m \u001b[39m# 梯度下降优化\u001b[39;00m\n",
      "\u001b[0;31mTypeError\u001b[0m: Cannot interpret '1' as a data type"
     ]
    }
   ],
   "source": [
    "import numpy as np\n",
    "\n",
    "class LinearRegression:\n",
    "    def __init__(self, lr=0.01, n_iters=1000):\n",
    "        self.lr = lr\n",
    "        self.n_iters = n_iters\n",
    "        self.weights = None\n",
    "        self.bias = None\n",
    "        \n",
    "    def fit(self, X, y):\n",
    "        n_samples, n_features = X.shape\n",
    "        \n",
    "        # 初始化权重和偏差\n",
    "        self.weights = np.zeros((n_features, 1))\n",
    "        self.bias = 0\n",
    "        \n",
    "        # 梯度下降优化\n",
    "        for _ in range(self.n_iters):\n",
    "            y_pred = np.dot(X, self.weights) + self.bias\n",
    "            dw = (1/n_samples) * np.dot(X.T, (y_pred - y))\n",
    "            db = (1/n_samples) * np.sum(y_pred - y)\n",
    "            self.weights -= self.lr * dw.reshape(-1, 1)\n",
    "            self.bias -= self.lr * db\n",
    "        \n",
    "    def predict(self, X):\n",
    "        return np.dot(X, self.weights) + self.bias\n",
    "\n",
    "\n",
    "# 生成一些随机数据\n",
    "np.random.seed(0)\n",
    "X = np.random.randn(100, 1)\n",
    "y = 2*X + 1 + np.random.randn(100, 1)\n",
    "\n",
    "# 训练模型\n",
    "model = LinearRegression(lr=0.1, n_iters=1000)\n",
    "model.fit(X, y)\n",
    "\n",
    "# 预测新数据\n",
    "X_new = np.array([[2], [3]])\n",
    "y_new = model.predict(X_new)\n",
    "\n",
    "# 绘制训练数据和拟合直线\n",
    "plt.scatter(X, y)\n",
    "plt.plot(X, model.predict(X), color='r')\n",
    "plt.show()\n",
    "\n",
    "print(\"预测值：\")\n",
    "print(y_new)"
   ]
  }
 ],
 "metadata": {
  "kernelspec": {
   "display_name": "opencompass",
   "language": "python",
   "name": "python3"
  },
  "language_info": {
   "codemirror_mode": {
    "name": "ipython",
    "version": 3
   },
   "file_extension": ".py",
   "mimetype": "text/x-python",
   "name": "python",
   "nbconvert_exporter": "python",
   "pygments_lexer": "ipython3",
   "version": "3.10.12"
  },
  "orig_nbformat": 4,
  "vscode": {
   "interpreter": {
    "hash": "b7280ecd607703ed161a72ecf2c7d161e0f4d45983bbd722ee6f1dfe0d94a180"
   }
  }
 },
 "nbformat": 4,
 "nbformat_minor": 2
}
